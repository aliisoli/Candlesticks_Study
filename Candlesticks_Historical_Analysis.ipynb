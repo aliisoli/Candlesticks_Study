{
 "cells": [
  {
   "cell_type": "markdown",
   "metadata": {},
   "source": [
    "## Disclaimer:\n",
    "#### This post by no means is providing financial advice to anyone, and is merely a statistical analysis of how well candlestick patterns have been able to predict the market in the past. Anyone who wishes to trade any securities is responsible for analyzing their choices based on their merits and not based on contents of this article"
   ]
  },
  {
   "cell_type": "markdown",
   "metadata": {},
   "source": [
    "A candlestick is a type of price chart that displays the high, low, open, and closing prices of a security for a specific period. In the last decades candlesticks have drawn attention from traders and investors who try to optimize their trades and make profits based on specific shapes and patterns in candlesticks. \n",
    "Due to their simple nature, many of beginner traders start by trading based on candlestick patterns only, hoping to realize easy profits. \n",
    "In this blog, we'll be looking at historical data in stock market to study how effective candlesticks are in predicting the future movement of a security. "
   ]
  },
  {
   "cell_type": "markdown",
   "metadata": {},
   "source": [
    "### Brief Intro\n",
    "The wide part of the candlestick is called the \"real body\" and tells investors whether the closing price was higher or lower than the opening price."
   ]
  },
  {
   "cell_type": "code",
   "execution_count": 1,
   "metadata": {},
   "outputs": [],
   "source": [
    "# importing necessary modules\n",
    "import pandas as pd\n",
    "import numpy as np\n",
    "import matplotlib.pyplot as plt"
   ]
  },
  {
   "cell_type": "markdown",
   "metadata": {},
   "source": [
    "We'll be looking at the popular Apple stock for this analysis, and will write a comprehensive function to do all the steps at once and then analyze Amazon and Netflix stocks together. You are encouraged to use the provided data for other stocks such as Facebook to run the analysis yourself at the end. "
   ]
  },
  {
   "cell_type": "code",
   "execution_count": 2,
   "metadata": {},
   "outputs": [],
   "source": [
    "# Reading in the stock data\n",
    "aapl = pd.read_csv(\"AAPL.csv\")"
   ]
  },
  {
   "cell_type": "code",
   "execution_count": 3,
   "metadata": {},
   "outputs": [
    {
     "data": {
      "text/html": [
       "<div>\n",
       "<style scoped>\n",
       "    .dataframe tbody tr th:only-of-type {\n",
       "        vertical-align: middle;\n",
       "    }\n",
       "\n",
       "    .dataframe tbody tr th {\n",
       "        vertical-align: top;\n",
       "    }\n",
       "\n",
       "    .dataframe thead th {\n",
       "        text-align: right;\n",
       "    }\n",
       "</style>\n",
       "<table border=\"1\" class=\"dataframe\">\n",
       "  <thead>\n",
       "    <tr style=\"text-align: right;\">\n",
       "      <th></th>\n",
       "      <th>date</th>\n",
       "      <th>volume</th>\n",
       "      <th>open</th>\n",
       "      <th>close</th>\n",
       "      <th>high</th>\n",
       "      <th>low</th>\n",
       "      <th>adjclose</th>\n",
       "    </tr>\n",
       "  </thead>\n",
       "  <tbody>\n",
       "    <tr>\n",
       "      <th>0</th>\n",
       "      <td>1980-12-12</td>\n",
       "      <td>117258400</td>\n",
       "      <td>0.513393</td>\n",
       "      <td>0.513393</td>\n",
       "      <td>0.515625</td>\n",
       "      <td>0.513393</td>\n",
       "      <td>0.023007</td>\n",
       "    </tr>\n",
       "    <tr>\n",
       "      <th>1</th>\n",
       "      <td>1980-12-15</td>\n",
       "      <td>43971200</td>\n",
       "      <td>0.488839</td>\n",
       "      <td>0.486607</td>\n",
       "      <td>0.488839</td>\n",
       "      <td>0.486607</td>\n",
       "      <td>0.021807</td>\n",
       "    </tr>\n",
       "    <tr>\n",
       "      <th>2</th>\n",
       "      <td>1980-12-16</td>\n",
       "      <td>26432000</td>\n",
       "      <td>0.453125</td>\n",
       "      <td>0.450893</td>\n",
       "      <td>0.453125</td>\n",
       "      <td>0.450893</td>\n",
       "      <td>0.020206</td>\n",
       "    </tr>\n",
       "    <tr>\n",
       "      <th>3</th>\n",
       "      <td>1980-12-17</td>\n",
       "      <td>21610400</td>\n",
       "      <td>0.462054</td>\n",
       "      <td>0.462054</td>\n",
       "      <td>0.464286</td>\n",
       "      <td>0.462054</td>\n",
       "      <td>0.020706</td>\n",
       "    </tr>\n",
       "    <tr>\n",
       "      <th>4</th>\n",
       "      <td>1980-12-18</td>\n",
       "      <td>18362400</td>\n",
       "      <td>0.475446</td>\n",
       "      <td>0.475446</td>\n",
       "      <td>0.477679</td>\n",
       "      <td>0.475446</td>\n",
       "      <td>0.021307</td>\n",
       "    </tr>\n",
       "  </tbody>\n",
       "</table>\n",
       "</div>"
      ],
      "text/plain": [
       "         date     volume      open     close      high       low  adjclose\n",
       "0  1980-12-12  117258400  0.513393  0.513393  0.515625  0.513393  0.023007\n",
       "1  1980-12-15   43971200  0.488839  0.486607  0.488839  0.486607  0.021807\n",
       "2  1980-12-16   26432000  0.453125  0.450893  0.453125  0.450893  0.020206\n",
       "3  1980-12-17   21610400  0.462054  0.462054  0.464286  0.462054  0.020706\n",
       "4  1980-12-18   18362400  0.475446  0.475446  0.477679  0.475446  0.021307"
      ]
     },
     "execution_count": 3,
     "metadata": {},
     "output_type": "execute_result"
    }
   ],
   "source": [
    "# Inspect the dataframes and check out the data\n",
    "aapl = aapl.sort_values('date')\n",
    "aapl = aapl.reset_index(drop=True)\n",
    "aapl.head()"
   ]
  },
  {
   "cell_type": "markdown",
   "metadata": {},
   "source": [
    "Each row belongs to one trading day, so the trading period for this data is one day.\n",
    "For each day, some information is available regarding the stock for that day:\n",
    "\n",
    "- **Volume** is the amount of the security being traded over a certain period of time (in this case 1 day).\n",
    "- **Open** indicates the price of the security at the beginning of the trading period.\n",
    "- **Close** contains the values for the price of the security at the end of the trading period.\n",
    "- **High** shows the maximum value of the security over the trading period\n",
    "- **Low** shows the minimum value of the security over the trading period\n",
    "- **adjclose** is a more complex analysis that uses the closing price as a starting point, but it takes into account factors such as dividends, stock splits and new stock offerings to determine a value\n",
    "\n",
    "For this analysis, we will be keeping things simple and will work with close price rather than adjusted close price. Hence we can drop the adjclose column. "
   ]
  },
  {
   "cell_type": "code",
   "execution_count": 4,
   "metadata": {},
   "outputs": [],
   "source": [
    "aapl = aapl.drop(['adjclose'],axis=1)"
   ]
  },
  {
   "cell_type": "code",
   "execution_count": 5,
   "metadata": {},
   "outputs": [
    {
     "data": {
      "text/plain": [
       "(9669, 6)"
      ]
     },
     "execution_count": 5,
     "metadata": {},
     "output_type": "execute_result"
    }
   ],
   "source": [
    "aapl.shape"
   ]
  },
  {
   "cell_type": "markdown",
   "metadata": {},
   "source": [
    "Looks like we have roughly 10k rows. This should be enough to get a meaningful number of each candlestick patterns and analyze them"
   ]
  },
  {
   "cell_type": "markdown",
   "metadata": {},
   "source": [
    "Before starting with the candles, we need an indication of trend. The slope of simple moving average could be used as the trend. To calculate moving average, the rolling method for dataframes will be used"
   ]
  },
  {
   "cell_type": "code",
   "execution_count": 6,
   "metadata": {},
   "outputs": [],
   "source": [
    "def find_trend(data, period):\n",
    "    data['SMA'] = data['close'].rolling(period).mean()\n",
    "    return (data['SMA']-data['SMA'].shift(1)) > 0"
   ]
  },
  {
   "cell_type": "code",
   "execution_count": 7,
   "metadata": {},
   "outputs": [],
   "source": [
    "aapl['trend'] = find_trend(aapl, 3)"
   ]
  },
  {
   "cell_type": "code",
   "execution_count": 8,
   "metadata": {},
   "outputs": [
    {
     "data": {
      "text/plain": [
       "0    False\n",
       "1    False\n",
       "2    False\n",
       "3    False\n",
       "4    False\n",
       "Name: trend, dtype: bool"
      ]
     },
     "execution_count": 8,
     "metadata": {},
     "output_type": "execute_result"
    }
   ],
   "source": [
    "aapl.trend.head()"
   ]
  },
  {
   "cell_type": "markdown",
   "metadata": {},
   "source": [
    "False means that the trend is down, which makes sense by looking at the closing prices of the stock"
   ]
  },
  {
   "cell_type": "markdown",
   "metadata": {},
   "source": [
    "The first candlestick pattern that we will be analyzing is Harami. Harami is a type of Japanese candlestick pattern represented by two bodies, the first of them is larger and the second one smaller, with higher low and a lower high. Its name derives from the Japanese word that means “pregnant” because the graphic that shows resembles a pregnant woman. \n",
    "If the bigger candle (the first candle) is red and the second one is green, harami is bullish. \n",
    "\n",
    "#### Conditions of a Bullish Harami:\n",
    "\n",
    "- The big candle is red and appears first \n",
    "- The small candle is green and appreas next\n",
    "- Appears in a downtrend and is a sign of reversal\n",
    "\n",
    "Let's see where a bullish harami has appeared. "
   ]
  },
  {
   "cell_type": "markdown",
   "metadata": {},
   "source": [
    "### Note:\n",
    "Since candlestick patterns usually consist of two or more candles, the pattern is not confirmed until the last candle in the pattern forms. For this reason, the index of the candlestick pattern is placed on the index of the last candle in the pattern.\n",
    "\n",
    "The shift method basically shifts the entire series down by an integer that is passed into it as an argument. This means that for comparing the price of any day with the previous day, we can shift the series by 1 and compare it with the original series. \n",
    "(Note that the date column is sorted in chronological way)\n",
    "\n",
    "##### Looping through pandas dataframes is incredibly slow and is not recommended. This is why the shift method is used"
   ]
  },
  {
   "cell_type": "code",
   "execution_count": 9,
   "metadata": {},
   "outputs": [],
   "source": [
    "def find_bullish_harami(data):\n",
    "    # Opened higher than previous close\n",
    "    condition_1_BH = data['open'] > data['close'].shift(1) \n",
    "    # closed lower than prev open\n",
    "    condition_2_BH = data['close'] < data['open'].shift(1) \n",
    "    # previous candle is red\n",
    "    condition_3_BH = data['open'].shift(1) > data['close'].shift(1) \n",
    "    # the candle is green\n",
    "    condition_4_BH = data['close'] > data['open'] \n",
    "    # must appear in a downtrend\n",
    "    condition_5_BH = ~ data['trend']\n",
    "    return condition_1_BH & condition_2_BH & condition_3_BH & condition_4_BH & condition_5_BH\n"
   ]
  },
  {
   "cell_type": "code",
   "execution_count": 10,
   "metadata": {},
   "outputs": [],
   "source": [
    "aapl['Bullish_Harami'] = find_bullish_harami(aapl)"
   ]
  },
  {
   "cell_type": "code",
   "execution_count": 11,
   "metadata": {},
   "outputs": [
    {
     "data": {
      "text/plain": [
       "False    9449\n",
       "True      220\n",
       "Name: Bullish_Harami, dtype: int64"
      ]
     },
     "execution_count": 11,
     "metadata": {},
     "output_type": "execute_result"
    }
   ],
   "source": [
    "aapl['Bullish_Harami'].value_counts()"
   ]
  },
  {
   "cell_type": "code",
   "execution_count": 12,
   "metadata": {},
   "outputs": [
    {
     "data": {
      "text/plain": [
       "2.2753128555176336"
      ]
     },
     "execution_count": 12,
     "metadata": {},
     "output_type": "execute_result"
    }
   ],
   "source": [
    "100 * aapl['Bullish_Harami'].sum()/aapl.shape[0]"
   ]
  },
  {
   "cell_type": "markdown",
   "metadata": {},
   "source": [
    "Looks like we have 220 Bullish Haramis in our dataset. Namely, 2.27% of all the candlesticks.\n",
    "The number makes sense, since candlestick patterns don't appear too often. Let's look for bearish haramis now:"
   ]
  },
  {
   "cell_type": "markdown",
   "metadata": {},
   "source": [
    "Conditions of a bearish harami are similar to those of bullish harami, only the trend has been reversed:\n",
    "- The big candle apprears first and is green\n",
    "- The smaller candle appears next and is red \n"
   ]
  },
  {
   "cell_type": "code",
   "execution_count": 13,
   "metadata": {},
   "outputs": [],
   "source": [
    "def find_bearish_harami(data):\n",
    "    Bear_Har_cond_1 = data['close'].shift(1) > data['open']\n",
    "    Bear_Har_cond_2 = data['close'] > data['open'].shift(1)\n",
    "    Bear_Har_cond_3 = data['close'].shift(1) > data['open'].shift(1)\n",
    "    Bear_Har_cond_4 = data['open'] > data['close'] \n",
    "    Bear_Har_cond_5 = data['trend']\n",
    "    \n",
    "    return Bear_Har_cond_1 & Bear_Har_cond_2 & Bear_Har_cond_3 & Bear_Har_cond_4 & Bear_Har_cond_5"
   ]
  },
  {
   "cell_type": "code",
   "execution_count": 14,
   "metadata": {},
   "outputs": [],
   "source": [
    "aapl['Bearish_Harami'] = find_bearish_harami(aapl)"
   ]
  },
  {
   "cell_type": "code",
   "execution_count": 15,
   "metadata": {},
   "outputs": [
    {
     "data": {
      "text/plain": [
       "False    9499\n",
       "True      170\n",
       "Name: Bearish_Harami, dtype: int64"
      ]
     },
     "execution_count": 15,
     "metadata": {},
     "output_type": "execute_result"
    }
   ],
   "source": [
    "aapl['Bearish_Harami'].value_counts()"
   ]
  },
  {
   "cell_type": "code",
   "execution_count": 16,
   "metadata": {},
   "outputs": [
    {
     "data": {
      "text/plain": [
       "1.7581962974454441"
      ]
     },
     "execution_count": 16,
     "metadata": {},
     "output_type": "execute_result"
    }
   ],
   "source": [
    "100 * aapl['Bearish_Harami'].sum()/aapl.shape[0]"
   ]
  },
  {
   "cell_type": "markdown",
   "metadata": {},
   "source": [
    "a total of 170 bearish haramis have appeared in the dataset. Namely, 1.75% of the candlesticks are bearish harami"
   ]
  },
  {
   "cell_type": "markdown",
   "metadata": {},
   "source": [
    "Next candlestick pattern is the bullish engulfing pattern. A bullish engulfing pattern occurs after a price move lower and indicates higher prices to come. The first candle, in the two-candle pattern, is a down candle. The second candle is a larger up candle, with a real body that fully engulfs the smaller down candle. "
   ]
  },
  {
   "cell_type": "code",
   "execution_count": 17,
   "metadata": {},
   "outputs": [],
   "source": [
    "def find_bullish_engulfing(data):\n",
    "    # the second candle must close higher than previous candle\n",
    "    Bull_Eng_cond_1 = data['close'] > data['open'].shift(1)\n",
    "    # the second candle must open lower than previous canlde\n",
    "    Bull_Eng_cond_2 = data['close'].shift(1) > data['open']\n",
    "    # The second canlde must be green\n",
    "    Bull_Eng_cond_3 = data['close'] > data['open']\n",
    "    # The first candle must be red\n",
    "    Bull_Eng_cond_4 = data['open'].shift(1) > data['close'].shift(1)\n",
    "    \n",
    "    Bull_Eng_cond_5 = ~ data['trend']\n",
    "    \n",
    "    return Bull_Eng_cond_1 & Bull_Eng_cond_2 & Bull_Eng_cond_3  & Bull_Eng_cond_4 & Bull_Eng_cond_5"
   ]
  },
  {
   "cell_type": "code",
   "execution_count": 18,
   "metadata": {},
   "outputs": [],
   "source": [
    "aapl['Bullish_Engulfing'] = find_bullish_engulfing(aapl)"
   ]
  },
  {
   "cell_type": "code",
   "execution_count": 19,
   "metadata": {},
   "outputs": [
    {
     "data": {
      "text/plain": [
       "False    9593\n",
       "True       76\n",
       "Name: Bullish_Engulfing, dtype: int64"
      ]
     },
     "execution_count": 19,
     "metadata": {},
     "output_type": "execute_result"
    }
   ],
   "source": [
    "aapl['Bullish_Engulfing'].value_counts()"
   ]
  },
  {
   "cell_type": "code",
   "execution_count": 20,
   "metadata": {},
   "outputs": [
    {
     "data": {
      "text/plain": [
       "0.786017168269728"
      ]
     },
     "execution_count": 20,
     "metadata": {},
     "output_type": "execute_result"
    }
   ],
   "source": [
    "100 * aapl['Bullish_Engulfing'].sum() / aapl.shape[0]"
   ]
  },
  {
   "cell_type": "markdown",
   "metadata": {},
   "source": [
    "Next we will look at bearish engulfing pattern, the idea is the same as bullish engulfing, but the colors are reversed."
   ]
  },
  {
   "cell_type": "code",
   "execution_count": 21,
   "metadata": {},
   "outputs": [],
   "source": [
    "def find_bearish_engulfing(data):\n",
    "    Bear_Eng_cond_1 = data['open'] > data['close'].shift(1)\n",
    "    Bear_Eng_cond_2 = data['open'].shift(1) > data['close']\n",
    "    Bear_Eng_cond_3 = data['close'].shift(1) > data['open'].shift(1)\n",
    "    Bear_Eng_cond_4 = data['open'] > data['close']\n",
    "    Bear_Eng_cond_5 = data['trend']\n",
    "    return Bear_Eng_cond_1 & Bear_Eng_cond_2 & Bear_Eng_cond_3 & Bear_Eng_cond_4 & Bear_Eng_cond_5"
   ]
  },
  {
   "cell_type": "code",
   "execution_count": 22,
   "metadata": {},
   "outputs": [],
   "source": [
    "aapl['Bearish_Engulfing'] = find_bearish_engulfing(aapl)"
   ]
  },
  {
   "cell_type": "code",
   "execution_count": 23,
   "metadata": {},
   "outputs": [
    {
     "data": {
      "text/plain": [
       "False    9561\n",
       "True      108\n",
       "Name: Bearish_Engulfing, dtype: int64"
      ]
     },
     "execution_count": 23,
     "metadata": {},
     "output_type": "execute_result"
    }
   ],
   "source": [
    "aapl['Bearish_Engulfing'].value_counts()"
   ]
  },
  {
   "cell_type": "code",
   "execution_count": 24,
   "metadata": {},
   "outputs": [
    {
     "data": {
      "text/plain": [
       "1.1169717654359292"
      ]
     },
     "execution_count": 24,
     "metadata": {},
     "output_type": "execute_result"
    }
   ],
   "source": [
    "100*aapl['Bearish_Engulfing'].sum()/aapl.shape[0]"
   ]
  },
  {
   "cell_type": "markdown",
   "metadata": {},
   "source": [
    "Next up: Hammer: A hammer is a type of bullish reversal candlestick pattern, made up of just one candle, found in price charts of financial assets. The candle looks like a hammer, as it has a long lower wick and a short body at the top of the candlestick with little or no upper wick"
   ]
  },
  {
   "cell_type": "code",
   "execution_count": 25,
   "metadata": {},
   "outputs": [],
   "source": [
    "def find_green_hammer(data):\n",
    "    # lower shadow at least twice as long as body\n",
    "    Gr_Ham_cond_1 = (data['open'] - data['low']) > 2*(data['close']-data['open']) \n",
    "    # Upper shadow shorter than a tenth of the body\n",
    "    Gr_Ham_cond_2 = (data['close']-data['open']) > 10*(data['high'] - data['close'])\n",
    "    # candle should be green\n",
    "    Gr_Ham_cond_3 = data['close']>data['open']\n",
    "    # downtrend\n",
    "    Gr_Ham_cond_4 = ~ data['trend']\n",
    "    return Gr_Ham_cond_1 & Gr_Ham_cond_2 & Gr_Ham_cond_3 & Gr_Ham_cond_4"
   ]
  },
  {
   "cell_type": "code",
   "execution_count": 26,
   "metadata": {},
   "outputs": [],
   "source": [
    "aapl['Green_Hammer'] = find_green_hammer(aapl)"
   ]
  },
  {
   "cell_type": "code",
   "execution_count": 27,
   "metadata": {},
   "outputs": [
    {
     "data": {
      "text/plain": [
       "False    9651\n",
       "True       18\n",
       "Name: Green_Hammer, dtype: int64"
      ]
     },
     "execution_count": 27,
     "metadata": {},
     "output_type": "execute_result"
    }
   ],
   "source": [
    "aapl['Green_Hammer'].value_counts()"
   ]
  },
  {
   "cell_type": "code",
   "execution_count": 28,
   "metadata": {},
   "outputs": [
    {
     "data": {
      "text/plain": [
       "0.18616196090598822"
      ]
     },
     "execution_count": 28,
     "metadata": {},
     "output_type": "execute_result"
    }
   ],
   "source": [
    "100*aapl['Green_Hammer'].sum()/aapl.shape[0]"
   ]
  },
  {
   "cell_type": "markdown",
   "metadata": {},
   "source": [
    "Usually in the candlestick pattern analysis, the color of the hammer is not important. But let's separate them in our study to see if the green hammer has a more bullish reversal power compred to the red one. We will do the color separation for inverted hammer, shooting star and hanging man as well."
   ]
  },
  {
   "cell_type": "code",
   "execution_count": 29,
   "metadata": {},
   "outputs": [],
   "source": [
    "def find_red_hammer(data):\n",
    "    # The wick should be at least twice as long as the body\n",
    "    Rd_Ham_cond_1 = (data['close'] - data['low']) > 2*(data['open']-data['close'])\n",
    "    # The lower shadow must be very small, at least 10 times smaller than the body\n",
    "    Rd_Ham_cond_2 = (data['open']-data['close']) > 10*(data['high'] - data['open']) \n",
    "    # candle should be bearish\n",
    "    Rd_Ham_cond_3 = data['open'] > data['close']\n",
    "    \n",
    "    Rd_Ham_cond_4 = ~ data['trend']\n",
    "    return Rd_Ham_cond_1 & Rd_Ham_cond_2 & Rd_Ham_cond_3 & Rd_Ham_cond_4"
   ]
  },
  {
   "cell_type": "code",
   "execution_count": 30,
   "metadata": {},
   "outputs": [],
   "source": [
    "aapl['Red_Hammer'] = find_red_hammer(aapl)"
   ]
  },
  {
   "cell_type": "code",
   "execution_count": 31,
   "metadata": {},
   "outputs": [
    {
     "data": {
      "text/plain": [
       "False    9626\n",
       "True       43\n",
       "Name: Red_Hammer, dtype: int64"
      ]
     },
     "execution_count": 31,
     "metadata": {},
     "output_type": "execute_result"
    }
   ],
   "source": [
    "aapl['Red_Hammer'].value_counts()"
   ]
  },
  {
   "cell_type": "code",
   "execution_count": 32,
   "metadata": {},
   "outputs": [
    {
     "data": {
      "text/plain": [
       "0.44472023994208293"
      ]
     },
     "execution_count": 32,
     "metadata": {},
     "output_type": "execute_result"
    }
   ],
   "source": [
    "100*aapl['Red_Hammer'].sum()/aapl.shape[0]"
   ]
  },
  {
   "cell_type": "markdown",
   "metadata": {},
   "source": [
    "A hanging man is a type of bearish reversal pattern, made up of just one candle, found in an uptrend of price charts of financial assets. It has a long lower wick and a short body at the top of the candlestick with little or no upper wick.\n"
   ]
  },
  {
   "cell_type": "code",
   "execution_count": 33,
   "metadata": {},
   "outputs": [],
   "source": [
    "def find_green_hanging(data):\n",
    "    # lower shadow should be at least twice as long as the body\n",
    "    Gr_Hang_cond_1 = (data['open']-data['low']) > 2*(data['close']-data['open'])\n",
    "    # Upper shadow shorter than a tenth of the body\n",
    "    Gr_Hang_cond_2 = (data['close']-data['open']) > 10*(data['high'] - data['close'])\n",
    "    # candle should be green\n",
    "    Gr_Hang_cond_3 = data['close'] > data['open']\n",
    "    Gr_Hang_cond_4 = data['trend']\n",
    "    return Gr_Hang_cond_1 & Gr_Hang_cond_2 & Gr_Hang_cond_3 & Gr_Hang_cond_4"
   ]
  },
  {
   "cell_type": "code",
   "execution_count": 34,
   "metadata": {},
   "outputs": [],
   "source": [
    "aapl['Green_Hanging'] = find_green_hanging(aapl)"
   ]
  },
  {
   "cell_type": "code",
   "execution_count": 35,
   "metadata": {},
   "outputs": [
    {
     "data": {
      "text/plain": [
       "False    9646\n",
       "True       23\n",
       "Name: Green_Hanging, dtype: int64"
      ]
     },
     "execution_count": 35,
     "metadata": {},
     "output_type": "execute_result"
    }
   ],
   "source": [
    "aapl['Green_Hanging'].value_counts()"
   ]
  },
  {
   "cell_type": "code",
   "execution_count": 36,
   "metadata": {},
   "outputs": [
    {
     "data": {
      "text/plain": [
       "0.23787361671320717"
      ]
     },
     "execution_count": 36,
     "metadata": {},
     "output_type": "execute_result"
    }
   ],
   "source": [
    "100*aapl['Green_Hanging'].sum()/aapl.shape[0]"
   ]
  },
  {
   "cell_type": "markdown",
   "metadata": {},
   "source": [
    "We'll separate the green from red to see their difference in predicting a bearish reversal"
   ]
  },
  {
   "cell_type": "code",
   "execution_count": 37,
   "metadata": {},
   "outputs": [],
   "source": [
    "def find_red_hanging(data):\n",
    "    Rd_Hang_cond_1 = (data['close'] - data['low']) > 2*(data['open']-data['close'])\n",
    "    Rd_Hang_cond_2 = (data['open']-data['close']) > 10*(data['high'] - data['open'])\n",
    "    Rd_Hang_cond_3 = data['open'] > data['close']\n",
    "    Rd_Hang_cond_4 = data['trend']\n",
    "    return Rd_Hang_cond_1 & Rd_Hang_cond_2 & Rd_Hang_cond_3 & Rd_Hang_cond_4"
   ]
  },
  {
   "cell_type": "code",
   "execution_count": 38,
   "metadata": {},
   "outputs": [],
   "source": [
    "aapl['Red_Hanging'] = find_red_hanging(aapl)"
   ]
  },
  {
   "cell_type": "code",
   "execution_count": 39,
   "metadata": {},
   "outputs": [
    {
     "data": {
      "text/plain": [
       "False    9650\n",
       "True       19\n",
       "Name: Red_Hanging, dtype: int64"
      ]
     },
     "execution_count": 39,
     "metadata": {},
     "output_type": "execute_result"
    }
   ],
   "source": [
    "aapl['Red_Hanging'].value_counts()"
   ]
  },
  {
   "cell_type": "code",
   "execution_count": 40,
   "metadata": {},
   "outputs": [
    {
     "data": {
      "text/plain": [
       "0.196504292067432"
      ]
     },
     "execution_count": 40,
     "metadata": {},
     "output_type": "execute_result"
    }
   ],
   "source": [
    "aapl['Red_Hanging'].sum()/aapl.shape[0] *100"
   ]
  },
  {
   "cell_type": "markdown",
   "metadata": {},
   "source": [
    "A piercing pattern is one of a few important candlestick patterns that technical analysts typically spot on a price series chart. This pattern is formed by two consecutive candlestick marks. The first candlestick is red/black signifying a down day and the second is white/green signifying an up day. When a trader is watching for a bullish reversal any red candlestick followed by a white candlestick could be an alert."
   ]
  },
  {
   "cell_type": "code",
   "execution_count": 41,
   "metadata": {},
   "outputs": [],
   "source": [
    "def find_piercing_pattern(data):\n",
    "    # Last candle RED\n",
    "    PP_cond_1 = data['open'].shift(1) > data['close'].shift(1) \n",
    "    # This candle GREEN\n",
    "    PP_cond_2 = data['close'] > data['open'] \n",
    "    PP_cond_3 = data['close'].shift(1) > data['open']\n",
    "    PP_cond_4 = data['close'] > ((data['close'].shift(1) + data['open'].shift(1))/2)\n",
    "    # NOT ENGULFING \n",
    "    PP_cond_5 = data['open'].shift(1) > data['close'] \n",
    "    PP_cond_6 = ~data['trend']\n",
    "    return PP_cond_1 & PP_cond_2 & PP_cond_3 & PP_cond_4 & PP_cond_5 & PP_cond_6"
   ]
  },
  {
   "cell_type": "code",
   "execution_count": 42,
   "metadata": {},
   "outputs": [],
   "source": [
    "aapl['Piercing_Pattern'] = find_piercing_pattern(aapl)"
   ]
  },
  {
   "cell_type": "code",
   "execution_count": 43,
   "metadata": {},
   "outputs": [
    {
     "data": {
      "text/plain": [
       "False    9620\n",
       "True       49\n",
       "Name: Piercing_Pattern, dtype: int64"
      ]
     },
     "execution_count": 43,
     "metadata": {},
     "output_type": "execute_result"
    }
   ],
   "source": [
    "aapl['Piercing_Pattern'].value_counts()"
   ]
  },
  {
   "cell_type": "code",
   "execution_count": 44,
   "metadata": {},
   "outputs": [
    {
     "data": {
      "text/plain": [
       "0.5067742269107457"
      ]
     },
     "execution_count": 44,
     "metadata": {},
     "output_type": "execute_result"
    }
   ],
   "source": [
    "aapl['Piercing_Pattern'].sum()/aapl.shape[0]*100"
   ]
  },
  {
   "cell_type": "markdown",
   "metadata": {},
   "source": [
    "Dark Cloud Cover is a bearish reversal candlestick pattern where a down candle (typically black or red) opens above the close of the prior up candle (typically white or green), and then closes below the midpoint of the up candle. "
   ]
  },
  {
   "cell_type": "code",
   "execution_count": 45,
   "metadata": {},
   "outputs": [],
   "source": [
    "def find_dark_cloud(data):\n",
    "    # Last candle GREEN\n",
    "    DK_cond_1 = data['close'].shift(1) > data['open'].shift(1) \n",
    "    # This candle RED\n",
    "    DK_cond_2 = data['open'] > data['close'] \n",
    "    DK_cond_3 = data['open'] > data['close'].shift(1)\n",
    "    DK_cond_4 =(data['close'].shift(1) + data['open'].shift(1))/2 > data['close']\n",
    "    # NOT ENGULFING\n",
    "    DK_cond_5 = data['close'] > data['open'].shift(1) \n",
    "    DK_cond_6 = data['trend']\n",
    "    return DK_cond_1 & DK_cond_2 & DK_cond_3 & DK_cond_4 & DK_cond_5 & DK_cond_6"
   ]
  },
  {
   "cell_type": "code",
   "execution_count": 46,
   "metadata": {},
   "outputs": [],
   "source": [
    "aapl['Dark_Cloud'] = find_dark_cloud(aapl)"
   ]
  },
  {
   "cell_type": "code",
   "execution_count": 47,
   "metadata": {},
   "outputs": [
    {
     "data": {
      "text/plain": [
       "False    9589\n",
       "True       80\n",
       "Name: Dark_Cloud, dtype: int64"
      ]
     },
     "execution_count": 47,
     "metadata": {},
     "output_type": "execute_result"
    }
   ],
   "source": [
    "aapl['Dark_Cloud'].value_counts()"
   ]
  },
  {
   "cell_type": "code",
   "execution_count": 48,
   "metadata": {},
   "outputs": [
    {
     "data": {
      "text/plain": [
       "0.8273864929155031"
      ]
     },
     "execution_count": 48,
     "metadata": {},
     "output_type": "execute_result"
    }
   ],
   "source": [
    "aapl['Dark_Cloud'].sum()/aapl.shape[0]*100"
   ]
  },
  {
   "cell_type": "markdown",
   "metadata": {},
   "source": [
    "The Morning Star is a pattern seen in a candlestick chart, a type of chart used by stock analysts to describe and predict price movements of a security, derivative, or currency over time"
   ]
  },
  {
   "cell_type": "code",
   "execution_count": 49,
   "metadata": {},
   "outputs": [],
   "source": [
    "def find_morning_star(data):\n",
    "    # First candle RED\n",
    "    MS_cond_1 = data['open'].shift(2) > data['close'].shift(2) \n",
    "    # Third candle Green\n",
    "    MS_cond_2 = data['close'] > data['open']\n",
    "    # Third candle closes higher than the middle one\n",
    "    MS_cond_3 = (data['close'] > data['close'].shift(1)) \n",
    "    \n",
    "    MS_cond_4 = data['close'] > (data['open']+data['close'])/2\n",
    "    MS_cond_5 = data['close'].shift(1) < data['open']\n",
    "    MS_cond_6 = data['open'].shift(1) < data['open']\n",
    "    MS_cond_7 = (data['close'].shift(1) < data['close'].shift(2)) & (data['open'].shift(1) < data['close'].shift(2))\n",
    "    MS_cond_8 = ~ data['trend']\n",
    "    return MS_cond_1 & MS_cond_2 & MS_cond_3 & MS_cond_4 & MS_cond_5 & MS_cond_6 & MS_cond_7 & MS_cond_8\n",
    "    "
   ]
  },
  {
   "cell_type": "code",
   "execution_count": 50,
   "metadata": {},
   "outputs": [],
   "source": [
    "aapl['Morning_Star'] = find_morning_star(aapl)"
   ]
  },
  {
   "cell_type": "code",
   "execution_count": 51,
   "metadata": {},
   "outputs": [
    {
     "data": {
      "text/plain": [
       "False    9616\n",
       "True       53\n",
       "Name: Morning_Star, dtype: int64"
      ]
     },
     "execution_count": 51,
     "metadata": {},
     "output_type": "execute_result"
    }
   ],
   "source": [
    "aapl['Morning_Star'].value_counts()"
   ]
  },
  {
   "cell_type": "code",
   "execution_count": 52,
   "metadata": {},
   "outputs": [
    {
     "data": {
      "text/plain": [
       "0.5481435515565208"
      ]
     },
     "execution_count": 52,
     "metadata": {},
     "output_type": "execute_result"
    }
   ],
   "source": [
    "aapl['Morning_Star'].sum()/aapl.shape[0]*100"
   ]
  },
  {
   "cell_type": "markdown",
   "metadata": {},
   "source": [
    "An evening star is a bearish candlestick pattern consisting of three candles: a large white candlestick, a small-bodied candle, and a red candle."
   ]
  },
  {
   "cell_type": "code",
   "execution_count": 53,
   "metadata": {},
   "outputs": [],
   "source": [
    "def find_evening_star(data):\n",
    "    # First candle GREEN\n",
    "    ES_cond_1 = data['close'].shift(2) > data['open'].shift(2)\n",
    "    ES_cond_2 = data['open'] > data['close'] #nexy candle RED\n",
    "    ES_cond_3 = data['close'] < (data['close'].shift(2) + data['open'].shift(2))/2\n",
    "    ES_cond_4 = data['open'].shift(1) > data['close'].shift(2)\n",
    "    ES_cond_5 = data['close'].shift(1) > data['close'].shift(2)\n",
    "    ES_cond_6 = data['open'].shift(1) > data['open']\n",
    "    ES_cond_7 = data['close'].shift(1) > data['open'] \n",
    "    ES_cond_8 = data['trend']\n",
    "    return ES_cond_1 & ES_cond_2 & ES_cond_3 & ES_cond_4 & ES_cond_5 & ES_cond_6 & ES_cond_7 & ES_cond_8"
   ]
  },
  {
   "cell_type": "code",
   "execution_count": 54,
   "metadata": {},
   "outputs": [],
   "source": [
    "aapl['Evening_Star'] = find_evening_star(aapl)"
   ]
  },
  {
   "cell_type": "code",
   "execution_count": 55,
   "metadata": {},
   "outputs": [
    {
     "data": {
      "text/plain": [
       "False    9656\n",
       "True       13\n",
       "Name: Evening_Star, dtype: int64"
      ]
     },
     "execution_count": 55,
     "metadata": {},
     "output_type": "execute_result"
    }
   ],
   "source": [
    "aapl['Evening_Star'].value_counts()"
   ]
  },
  {
   "cell_type": "code",
   "execution_count": 56,
   "metadata": {},
   "outputs": [
    {
     "data": {
      "text/plain": [
       "0.13445030509876926"
      ]
     },
     "execution_count": 56,
     "metadata": {},
     "output_type": "execute_result"
    }
   ],
   "source": [
    "aapl['Evening_Star'].sum()/aapl.shape[0]*100"
   ]
  },
  {
   "cell_type": "markdown",
   "metadata": {},
   "source": [
    "A kicker pattern is a two-bar candlestick pattern that is used to predict a change in the direction of the trend for an asset's price. This pattern is characterized by a very sharp reversal in price over the span of two candlesticks; traders use it to determine which group of market participants is in control of the direction. The pattern points to a strong change in investors' attitude surrounding a security. This usually occurs following the release of valuable information about a company, industry or an economy."
   ]
  },
  {
   "cell_type": "code",
   "execution_count": 57,
   "metadata": {},
   "outputs": [],
   "source": [
    "def find_bull_kicker(data):\n",
    "    # the two candles open at the same level (within a small tolerance)\n",
    "    BK_cond_1 = abs(data['open'].shift(1) - data['open']) < 0.002 * data['open']\n",
    "    BK_cond_2 = data['open'].shift(1) > data['close'].shift(1) # last candle red\n",
    "    BK_cond_3 = data['close'] > data['open'] #candle GREEN\n",
    "    BK_cond_4 = data['low'] > data['open'].shift(1)\n",
    "    return BK_cond_1 & BK_cond_2 & BK_cond_3 & BK_cond_4"
   ]
  },
  {
   "cell_type": "code",
   "execution_count": 58,
   "metadata": {},
   "outputs": [
    {
     "data": {
      "text/plain": [
       "False    9663\n",
       "True        6\n",
       "Name: Bull_Kicker, dtype: int64"
      ]
     },
     "execution_count": 58,
     "metadata": {},
     "output_type": "execute_result"
    }
   ],
   "source": [
    "aapl['Bull_Kicker'] = find_bull_kicker(aapl)\n",
    "aapl['Bull_Kicker'].value_counts()"
   ]
  },
  {
   "cell_type": "code",
   "execution_count": 59,
   "metadata": {},
   "outputs": [
    {
     "data": {
      "text/plain": [
       "0.06205398696866273"
      ]
     },
     "execution_count": 59,
     "metadata": {},
     "output_type": "execute_result"
    }
   ],
   "source": [
    "aapl['Bull_Kicker'].sum()/aapl.shape[0]*100"
   ]
  },
  {
   "cell_type": "code",
   "execution_count": 60,
   "metadata": {},
   "outputs": [],
   "source": [
    "def find_bear_kicker(data):\n",
    "    # the two candles open at the same level (within a small tolerance)\n",
    "    BRK_cond_1 = abs(data['open'].shift(1) - data['open']) < 0.002 * data['open']\n",
    "    # last candle GREEN\n",
    "    BRK_cond_2 = data['close'].shift(1) > data['open'].shift(1)\n",
    "    # this candle RED\n",
    "    BRK_cond_3 = data['open'] > data['close'] \n",
    "    BRK_cond_4 = data['open'].shift(1) > data['high']\n",
    "    return BRK_cond_1 & BRK_cond_2 & BRK_cond_3 & BRK_cond_4"
   ]
  },
  {
   "cell_type": "code",
   "execution_count": 61,
   "metadata": {},
   "outputs": [
    {
     "data": {
      "text/plain": [
       "False    9665\n",
       "True        4\n",
       "Name: Bear_Kicker, dtype: int64"
      ]
     },
     "execution_count": 61,
     "metadata": {},
     "output_type": "execute_result"
    }
   ],
   "source": [
    "aapl['Bear_Kicker'] = find_bear_kicker(aapl)\n",
    "aapl['Bear_Kicker'].value_counts()"
   ]
  },
  {
   "cell_type": "code",
   "execution_count": 62,
   "metadata": {},
   "outputs": [
    {
     "data": {
      "text/plain": [
       "0.04136932464577516"
      ]
     },
     "execution_count": 62,
     "metadata": {},
     "output_type": "execute_result"
    }
   ],
   "source": [
    "aapl['Bear_Kicker'].sum()/aapl.shape[0]*100"
   ]
  },
  {
   "cell_type": "markdown",
   "metadata": {},
   "source": [
    "In technical analysis, a shooting star is interpreted as a type of reversal pattern presaging a falling price. The Shooting Star looks exactly the same as the Inverted hammer, but instead of being found in a downtrend it is found in an uptrend and thus has different implications."
   ]
  },
  {
   "cell_type": "code",
   "execution_count": 63,
   "metadata": {},
   "outputs": [],
   "source": [
    "def find_green_shooting_star(data):\n",
    "    SHS_1 =(data['high'] - data['close']) > 2 * (data['close'] - data['open'])\n",
    "    SHS_2 =(data['close'] - data['open']) > 10*(data['open'] - data['low'])\n",
    "    SHS_3 = data['close'] > data['open']\n",
    "    SHS_4 = data['trend'] \n",
    "    return SHS_1 & SHS_2 & SHS_3 & SHS_4"
   ]
  },
  {
   "cell_type": "code",
   "execution_count": 64,
   "metadata": {},
   "outputs": [
    {
     "data": {
      "text/plain": [
       "False    9631\n",
       "True       38\n",
       "Name: Green_Shooting_Star, dtype: int64"
      ]
     },
     "execution_count": 64,
     "metadata": {},
     "output_type": "execute_result"
    }
   ],
   "source": [
    "aapl['Green_Shooting_Star'] = find_green_shooting_star(aapl)\n",
    "aapl['Green_Shooting_Star'].value_counts()"
   ]
  },
  {
   "cell_type": "code",
   "execution_count": 65,
   "metadata": {},
   "outputs": [
    {
     "data": {
      "text/plain": [
       "0.393008584134864"
      ]
     },
     "execution_count": 65,
     "metadata": {},
     "output_type": "execute_result"
    }
   ],
   "source": [
    "aapl['Green_Shooting_Star'].sum()/aapl.shape[0]*100"
   ]
  },
  {
   "cell_type": "markdown",
   "metadata": {},
   "source": [
    "Let's separate red and green to see their difference in predicting a reversal"
   ]
  },
  {
   "cell_type": "code",
   "execution_count": 66,
   "metadata": {},
   "outputs": [],
   "source": [
    "def find_red_shooting_star(data):\n",
    "    RSH_1 =(data['high'] - data['open']) > 2 * (data['open'] - data['close'])\n",
    "    RSH_2 =(data['open'] - data['close']) > 10*(data['close'] - data['low'])\n",
    "    RSH_3 = data['open'] > data['close'] #is Red\n",
    "    RSH_4 = data['trend']\n",
    "    return RSH_1 & RSH_2 & RSH_3 & RSH_4"
   ]
  },
  {
   "cell_type": "code",
   "execution_count": 67,
   "metadata": {},
   "outputs": [
    {
     "data": {
      "text/plain": [
       "False    9658\n",
       "True       11\n",
       "Name: Red_Shooting_Star, dtype: int64"
      ]
     },
     "execution_count": 67,
     "metadata": {},
     "output_type": "execute_result"
    }
   ],
   "source": [
    "aapl['Red_Shooting_Star'] = find_red_shooting_star(aapl)\n",
    "aapl['Red_Shooting_Star'].value_counts()"
   ]
  },
  {
   "cell_type": "code",
   "execution_count": 68,
   "metadata": {},
   "outputs": [
    {
     "data": {
      "text/plain": [
       "0.11376564277588168"
      ]
     },
     "execution_count": 68,
     "metadata": {},
     "output_type": "execute_result"
    }
   ],
   "source": [
    "aapl['Red_Shooting_Star'].sum()/aapl.shape[0]*100"
   ]
  },
  {
   "cell_type": "markdown",
   "metadata": {},
   "source": [
    "he inverted hammer is a type of candlestick pattern found after a downtrend and is usually taken to be a trend-reversal signal. The inverted hammer looks like an upside down version of the hammer candlestick pattern, and when it appears in an uptrend is called a shooting star. "
   ]
  },
  {
   "cell_type": "code",
   "execution_count": 69,
   "metadata": {},
   "outputs": [],
   "source": [
    "def find_green_inverted_hammer(data):\n",
    "    GIH_1 =(data['close']-data['open']) > 10*(data['open']-data['low']) \n",
    "    GIH_2 =(data['high']-data['close']) > 2*(data['close']-data['open'])\n",
    "    GIH_3 = data['close']>data['open']\n",
    "    GIH_4 = ~data['trend']\n",
    "    return GIH_1 & GIH_2 & GIH_3 & GIH_4"
   ]
  },
  {
   "cell_type": "code",
   "execution_count": 70,
   "metadata": {},
   "outputs": [
    {
     "data": {
      "text/plain": [
       "False    9634\n",
       "True       35\n",
       "Name: Green_Inverted_Hammer, dtype: int64"
      ]
     },
     "execution_count": 70,
     "metadata": {},
     "output_type": "execute_result"
    }
   ],
   "source": [
    "aapl['Green_Inverted_Hammer'] = find_green_inverted_hammer(aapl)\n",
    "aapl['Green_Inverted_Hammer'].value_counts()"
   ]
  },
  {
   "cell_type": "code",
   "execution_count": 71,
   "metadata": {},
   "outputs": [
    {
     "data": {
      "text/plain": [
       "0.36198159065053265"
      ]
     },
     "execution_count": 71,
     "metadata": {},
     "output_type": "execute_result"
    }
   ],
   "source": [
    "aapl['Green_Inverted_Hammer'].sum()/aapl.shape[0]*100"
   ]
  },
  {
   "cell_type": "code",
   "execution_count": 72,
   "metadata": {},
   "outputs": [],
   "source": [
    "def find_red_inverted_hammer(data):\n",
    "    RIH_1 =(data['open']-data['close']) > 10*(data['close']-data['low']) \n",
    "    RIH_2 =(data['high']-data['open']) > 2*(data['open']-data['close'])\n",
    "    RIH_3 = data['open']>data['close'] #is red\n",
    "    RIH_3 = ~data['trend']\n",
    "    return RIH_1 & RIH_2 & RIH_3"
   ]
  },
  {
   "cell_type": "code",
   "execution_count": 73,
   "metadata": {},
   "outputs": [
    {
     "data": {
      "text/plain": [
       "False    9641\n",
       "True       28\n",
       "Name: Red_Inverted_Hammer, dtype: int64"
      ]
     },
     "execution_count": 73,
     "metadata": {},
     "output_type": "execute_result"
    }
   ],
   "source": [
    "aapl['Red_Inverted_Hammer'] = find_red_inverted_hammer(aapl)\n",
    "aapl['Red_Inverted_Hammer'].value_counts()"
   ]
  },
  {
   "cell_type": "code",
   "execution_count": 74,
   "metadata": {},
   "outputs": [
    {
     "data": {
      "text/plain": [
       "0.2895852725204261"
      ]
     },
     "execution_count": 74,
     "metadata": {},
     "output_type": "execute_result"
    }
   ],
   "source": [
    "aapl['Red_Inverted_Hammer'].sum()/aapl.shape[0]*100"
   ]
  },
  {
   "cell_type": "markdown",
   "metadata": {},
   "source": [
    "Now that we have identified where our candlestick patterns of interest appear, let's crunch some numbers together\n",
    "\n"
   ]
  },
  {
   "cell_type": "code",
   "execution_count": 75,
   "metadata": {},
   "outputs": [],
   "source": [
    "candlesticks_count = aapl.drop(['open','close','high','low','volume','date','SMA','trend'],axis=1).sum()"
   ]
  },
  {
   "cell_type": "code",
   "execution_count": 76,
   "metadata": {},
   "outputs": [
    {
     "data": {
      "text/plain": [
       "Bullish_Harami           220\n",
       "Bearish_Harami           170\n",
       "Bullish_Engulfing         76\n",
       "Bearish_Engulfing        108\n",
       "Green_Hammer              18\n",
       "Red_Hammer                43\n",
       "Green_Hanging             23\n",
       "Red_Hanging               19\n",
       "Piercing_Pattern          49\n",
       "Dark_Cloud                80\n",
       "Morning_Star              53\n",
       "Evening_Star              13\n",
       "Bull_Kicker                6\n",
       "Bear_Kicker                4\n",
       "Green_Shooting_Star       38\n",
       "Red_Shooting_Star         11\n",
       "Green_Inverted_Hammer     35\n",
       "Red_Inverted_Hammer       28\n",
       "dtype: int64"
      ]
     },
     "execution_count": 76,
     "metadata": {},
     "output_type": "execute_result"
    }
   ],
   "source": [
    "candlesticks_count"
   ]
  },
  {
   "cell_type": "code",
   "execution_count": 77,
   "metadata": {},
   "outputs": [
    {
     "data": {
      "text/plain": [
       "Text(0, 0.5, 'Count')"
      ]
     },
     "execution_count": 77,
     "metadata": {},
     "output_type": "execute_result"
    },
    {
     "data": {
      "image/png": "[encoded data removed]",
      "text/plain": [
       "<Figure size 432x288 with 1 Axes>"
      ]
     },
     "metadata": {
      "needs_background": "light"
     },
     "output_type": "display_data"
    }
   ],
   "source": [
    "%matplotlib inline\n",
    "ax = candlesticks_count.plot.bar()\n",
    "ax.grid()\n",
    "ax.set_xlabel('Pattern')\n",
    "ax.set_ylabel('Count')"
   ]
  },
  {
   "cell_type": "markdown",
   "metadata": {},
   "source": [
    "This shows how some candlestick patterns can appear frequently but others are quite rare to find!"
   ]
  },
  {
   "cell_type": "code",
   "execution_count": 78,
   "metadata": {
    "scrolled": true
   },
   "outputs": [
    {
     "data": {
      "text/plain": [
       "994"
      ]
     },
     "execution_count": 78,
     "metadata": {},
     "output_type": "execute_result"
    }
   ],
   "source": [
    "aapl.drop(['open','close','high','low','volume','date','SMA','trend'],axis=1).sum().sum()"
   ]
  },
  {
   "cell_type": "markdown",
   "metadata": {},
   "source": [
    "A total of 994 candlestick patterns have occured."
   ]
  },
  {
   "cell_type": "markdown",
   "metadata": {},
   "source": [
    "##### Prediction score:\n",
    "let's define the prediction score to be the fraction of the times that the pattern correctly predicted a price change to the total number of times the pattern appeared. "
   ]
  },
  {
   "cell_type": "code",
   "execution_count": 80,
   "metadata": {},
   "outputs": [],
   "source": [
    "def get_prediction_score(data, candlestick_pattern: str):\n",
    "    initial_prices = data['close'][data[candlestick_pattern]==1]\n",
    "    next_price_point = data['close'][data[candlestick_pattern].shift(1)==1]\n",
    "    price_increased = next_price_point.reset_index(drop=True) > initial_prices.reset_index(drop=True)\n",
    "    price_dropped = next_price_point.reset_index(drop=True) < initial_prices.reset_index(drop=True)\n",
    "    if candlestick_pattern in ['Bullish_Harami', 'Bullish_Engulfing', 'Green_Hammer', 'Red_Hammer', 'Piercing_Pattern',\n",
    "                               'Morning_Star', 'Bull_Kicker', 'Green_Inverted_Hammer', 'Red_Inverted_Hammer']:\n",
    "        prediction_score = price_increased.sum()/len(price_increased)\n",
    "        return prediction_score\n",
    "    # elif used rather than else to prevent typos to misclassify bullish and bearish signals\n",
    "    elif candlestick_pattern in ['Bearish_Harami', 'Bearish_Engulfing', 'Green_Hanging', 'Red_Hanging', 'Dark_Cloud',\n",
    "                                 'Evening_Star', 'Bear_Kicker', 'Green_Shooting_Star', 'Red_Shooting_Star']:\n",
    "        prediction_score = price_dropped.sum()/len(price_dropped)\n",
    "        return prediction_score\n",
    "    else:\n",
    "        print(f'Sorry, {candlestick_pattern} was not found in our list of modeled candlestick pattern ')\n",
    "        "
   ]
  },
  {
   "cell_type": "code",
   "execution_count": 81,
   "metadata": {},
   "outputs": [],
   "source": [
    "scores = pd.Series()\n",
    "candlesticks = ['Bullish_Harami', 'Bullish_Engulfing', 'Green_Hammer', 'Red_Hammer', 'Piercing_Pattern',\n",
    "                'Morning_Star', 'Bull_Kicker', 'Green_Inverted_Hammer', 'Red_Inverted_Hammer','Bearish_Harami', 'Bearish_Engulfing', 'Green_Hanging', 'Red_Hanging', 'Dark_Cloud',\n",
    "                                 'Evening_Star', 'Bear_Kicker', 'Green_Shooting_Star', 'Red_Shooting_Star']\n",
    "for pattern in candlesticks:\n",
    "    scores[pattern] = get_prediction_score(aapl, pattern)"
   ]
  },
  {
   "cell_type": "code",
   "execution_count": 83,
   "metadata": {},
   "outputs": [
    {
     "data": {
      "image/png": "[encoded data removed]",
      "text/plain": [
       "<Figure size 432x288 with 1 Axes>"
      ]
     },
     "metadata": {
      "needs_background": "light"
     },
     "output_type": "display_data"
    }
   ],
   "source": [
    "ax = scores.plot.bar()\n",
    "ax.set_title('Prediction Score of Candlestick Patterns')\n",
    "ax.set_ylim(0,1)\n",
    "ax.grid()"
   ]
  },
  {
   "cell_type": "markdown",
   "metadata": {},
   "source": [
    "The higher the prediction score, the more reliable the candlestick pattern is. "
   ]
  },
  {
   "cell_type": "markdown",
   "metadata": {},
   "source": [
    "## Important Note:\n",
    "You might think, there is a big bias in the scores that are plotted above. Since the price of the Apple stock has had an uptrend since the initial public offering, there should have been more bullish days than bearish days. Thus if you choose a random day in the history of the stock, it is more likely that the price will be higher the next day. In other words, the bullish signals have an unfair advantage in our scoring system. That is a fair assumption. Let's check this together"
   ]
  },
  {
   "cell_type": "code",
   "execution_count": 84,
   "metadata": {},
   "outputs": [],
   "source": [
    "def get_bullish_fraction(data):\n",
    "    bullish_days = data['close'] > data['close'].shift(1)\n",
    "    return bullish_days.sum()/len(data)"
   ]
  },
  {
   "cell_type": "code",
   "execution_count": 85,
   "metadata": {},
   "outputs": [
    {
     "data": {
      "text/plain": [
       "0.492915503154411"
      ]
     },
     "execution_count": 85,
     "metadata": {},
     "output_type": "execute_result"
    },
    {
     "data": {
      "image/png": "[encoded data removed]",
      "text/plain": [
       "<Figure size 432x288 with 1 Axes>"
      ]
     },
     "metadata": {},
     "output_type": "display_data"
    }
   ],
   "source": [
    "bullish_fraction = get_bullish_fraction(aapl)\n",
    "plt.pie([bullish_fraction, 1-bullish_fraction], labels=['Bullish_Days','Bearish_Days'])\n",
    "bullish_fraction"
   ]
  },
  {
   "cell_type": "markdown",
   "metadata": {},
   "source": [
    "Well I guess that is not what you expected. The number of bullish and bearish days are close to the number of bearish days. One explanation for this could be that the magnitude of price gains were higher than the magnitude of drops on average, thus the stock has gained over time despite having fewere bullish days. Don't want to go off-topic, but let's check this out quickly."
   ]
  },
  {
   "cell_type": "code",
   "execution_count": 86,
   "metadata": {},
   "outputs": [
    {
     "data": {
      "text/plain": [
       "0.33619826242952683"
      ]
     },
     "execution_count": 86,
     "metadata": {},
     "output_type": "execute_result"
    }
   ],
   "source": [
    "where_loss_happened = aapl['close'] > aapl['close'].shift(-1)\n",
    "price_losses = aapl['close'][where_loss_happened].reset_index(drop=True) - aapl['close'][where_loss_happened.shift(1).fillna(False)].reset_index(drop=True)\n",
    "abs(np.mean(price_losses))"
   ]
  },
  {
   "cell_type": "code",
   "execution_count": 87,
   "metadata": {},
   "outputs": [
    {
     "data": {
      "text/plain": [
       "0.36221668832363624"
      ]
     },
     "execution_count": 87,
     "metadata": {},
     "output_type": "execute_result"
    }
   ],
   "source": [
    "where_gain_happened = aapl['close'] < aapl['close'].shift(-1)\n",
    "price_gains = aapl['close'][where_gain_happened].reset_index(drop=True) - aapl['close'][where_gain_happened.shift(1).fillna(False)].reset_index(drop=True)\n",
    "abs(np.mean(price_gains))"
   ]
  },
  {
   "cell_type": "markdown",
   "metadata": {},
   "source": [
    "As you can see, the average daily gain is higher than average daily loss. "
   ]
  },
  {
   "cell_type": "markdown",
   "metadata": {},
   "source": [
    "Now let's write a function to correct the prediction scores of each candlestick patterns"
   ]
  },
  {
   "cell_type": "code",
   "execution_count": 88,
   "metadata": {},
   "outputs": [],
   "source": [
    "def correct_prediction_score(data, candlestick_pattern: str):\n",
    "    bullish_fraction = get_bullish_fraction(data)\n",
    "    initial_prices = data['close'][data[candlestick_pattern]==1]\n",
    "    next_price_point = data['close'][data[candlestick_pattern].shift(1)==1]\n",
    "    price_increased = next_price_point.reset_index(drop=True) > initial_prices.reset_index(drop=True)\n",
    "    price_dropped = next_price_point.reset_index(drop=True) < initial_prices.reset_index(drop=True)\n",
    "    if candlestick_pattern in ['Bullish_Harami', 'Bullish_Engulfing', 'Green_Hammer', 'Red_Hammer', 'Piercing_Pattern',\n",
    "                               'Morning_Star', 'Bull_Kicker', 'Green_Inverted_Hammer', 'Red_Inverted_Hammer']:\n",
    "        prediction_score = price_increased.sum()/len(price_increased)\n",
    "        prediction_score *= 0.5/bullish_fraction\n",
    "        return prediction_score\n",
    "    # elif used rather than else to prevent typos to misclassify bullish and bearish signals\n",
    "    elif candlestick_pattern in ['Bearish_Harami', 'Bearish_Engulfing', 'Green_Hanging', 'Red_Hanging', 'Dark_Cloud',\n",
    "                                 'Evening_Star', 'Bear_Kicker', 'Green_Shooting_Star', 'Red_Shooting_Star']:\n",
    "        prediction_score = price_dropped.sum()/len(price_dropped)\n",
    "        prediction_score *= 0.5/(1-bullish_fraction)\n",
    "        return prediction_score\n",
    "    else:\n",
    "        print(f'Sorry, {candlestick_pattern} was not found in our list of modeled candlestick pattern ')\n",
    "        "
   ]
  },
  {
   "cell_type": "code",
   "execution_count": 89,
   "metadata": {},
   "outputs": [],
   "source": [
    "corrected_scores = pd.Series()\n",
    "for pattern in candlesticks:\n",
    "    corrected_scores[pattern] = correct_prediction_score(aapl, pattern)\n",
    "    "
   ]
  },
  {
   "cell_type": "code",
   "execution_count": 90,
   "metadata": {},
   "outputs": [
    {
     "data": {
      "image/png": "[encoded data removed]",
      "text/plain": [
       "<Figure size 432x288 with 1 Axes>"
      ]
     },
     "metadata": {
      "needs_background": "light"
     },
     "output_type": "display_data"
    }
   ],
   "source": [
    "ax = corrected_scores.plot.bar()\n",
    "ax.set_ylim(0,1)\n",
    "ax.grid()"
   ]
  },
  {
   "cell_type": "markdown",
   "metadata": {},
   "source": [
    "#### Analysis\n",
    "First we need to understand the scoring system. A score of 1 is the perfect score and it means that whenever the pattern has appeared, the market trend has changed in the way that the pattern predicts, e.g. if bullish kicker had a score of 1, it would mean that every time the pattern had been observed, the next candle was bullish. \n",
    "\n",
    "On the other hand, a score of 0 means the worst possible score, and it means that the candle has made the wrong prediction every single time. \n",
    "\n",
    "The middle ground is the score of 0.5, which is the score that you would get if you were to randomly guess the trend of the market. Basically this means you are right half of the time. \n",
    "\n",
    "Looking at the data, we observe that most of the candles seem to have a score of roughly 0.5, which means that they do not offer any predictive power whatsoever. \n",
    "In the example of Bull kicker and Bear kicker patterns, the number of observations is too low to make a judgement. Maybe it would help if we repeated the same analysis on more stock data to increase the number of our observations and make a better judgement. Let's do it!"
   ]
  },
  {
   "cell_type": "code",
   "execution_count": 91,
   "metadata": {},
   "outputs": [],
   "source": [
    "def analyze_candlestick_accuracy(data):\n",
    "    data = data.sort_values('date')\n",
    "    data = data.reset_index(drop=True)\n",
    "    data = data.drop(['adjclose'],axis=1)\n",
    "    data['trend'] = find_trend(data, 3)\n",
    "    data['Bullish_Harami'] = find_bullish_harami(data)\n",
    "    data['Bearish_Harami'] = find_bearish_harami(data)\n",
    "    data['Bullish_Engulfing'] = find_bullish_engulfing(data)\n",
    "    data['Bearish_Engulfing'] = find_bearish_engulfing(data)\n",
    "    data['Green_Hammer'] = find_green_hammer(data)\n",
    "    data['Red_Hammer'] = find_red_hammer(data)\n",
    "    data['Green_Hanging'] = find_green_hanging(data)\n",
    "    data['Red_Hanging'] = find_red_hanging(data)\n",
    "    data['Piercing_Pattern'] = find_piercing_pattern(data)\n",
    "    data['Dark_Cloud'] = find_dark_cloud(data)\n",
    "    data['Morning_Star'] = find_morning_star(data)\n",
    "    data['Evening_Star'] = find_evening_star(data)\n",
    "    data['Bull_Kicker'] = find_bull_kicker(data)\n",
    "    data['Bear_Kicker'] = find_bear_kicker(data)\n",
    "    data['Green_Shooting_Star'] = find_green_shooting_star(data)\n",
    "    data['Red_Shooting_Star'] = find_red_shooting_star(data)\n",
    "    data['Green_Inverted_Hammer'] = find_green_inverted_hammer(data)\n",
    "    data['Red_Inverted_Hammer'] = find_red_inverted_hammer(data)\n",
    "    \n",
    "    candlesticks_count = data.drop(['open','close','high','low','volume','date','SMA','trend'],axis=1).sum()\n",
    "    ax1 = candlesticks_count.plot.bar()\n",
    "    ax1.grid()\n",
    "    ax1.set_xlabel('Pattern')\n",
    "    ax1.set_ylabel('Count')\n",
    "    candlesticks = ['Bullish_Harami', 'Bearish_Harami','Bullish_Engulfing', 'Bearish_Engulfing','Green_Hammer', 'Red_Hammer',\n",
    "                    'Green_Hanging', 'Red_Hanging','Piercing_Pattern', 'Dark_Cloud', 'Morning_Star','Evening_Star',\n",
    "                    'Bull_Kicker', 'Bear_Kicker', 'Green_Shooting_Star', 'Red_Shooting_Star',\n",
    "                    'Green_Inverted_Hammer', 'Red_Inverted_Hammer' ]\n",
    "    corrected_scores = pd.Series()\n",
    "    for pattern in candlesticks:\n",
    "        corrected_scores[pattern] = correct_prediction_score(data, pattern)\n",
    "    return corrected_scores\n"
   ]
  },
  {
   "cell_type": "code",
   "execution_count": 92,
   "metadata": {},
   "outputs": [],
   "source": [
    "def plot_scores(corrected_scores):\n",
    "    ax = corrected_scores.plot.bar()\n",
    "    ax.set_ylim(0,1)\n",
    "    ax.grid()\n",
    "    "
   ]
  },
  {
   "cell_type": "code",
   "execution_count": 93,
   "metadata": {},
   "outputs": [],
   "source": [
    "amzn = pd.read_csv('AMZN.csv')"
   ]
  },
  {
   "cell_type": "code",
   "execution_count": 94,
   "metadata": {},
   "outputs": [
    {
     "data": {
      "image/png": "[encoded data removed]",
      "text/plain": [
       "<Figure size 432x288 with 1 Axes>"
      ]
     },
     "metadata": {
      "needs_background": "light"
     },
     "output_type": "display_data"
    }
   ],
   "source": [
    "corrected_scores_amzn = analyze_candlestick_accuracy(amzn)"
   ]
  },
  {
   "cell_type": "code",
   "execution_count": 95,
   "metadata": {},
   "outputs": [
    {
     "data": {
      "image/png": "[encoded data removed]",
      "text/plain": [
       "<Figure size 432x288 with 1 Axes>"
      ]
     },
     "metadata": {
      "needs_background": "light"
     },
     "output_type": "display_data"
    }
   ],
   "source": [
    "plot_scores(corrected_scores_amzn)"
   ]
  },
  {
   "cell_type": "markdown",
   "metadata": {},
   "source": [
    "This is absolutely interesting! Look at the count of each pattern. The patterns that appear more often seem to score closer to 0.5, which is the equivalent of randomly trading. Let's do the process for other stocks!"
   ]
  },
  {
   "cell_type": "code",
   "execution_count": 96,
   "metadata": {},
   "outputs": [],
   "source": [
    "nflx = pd.read_csv('NFLX.csv')"
   ]
  },
  {
   "cell_type": "code",
   "execution_count": 97,
   "metadata": {},
   "outputs": [
    {
     "data": {
      "image/png": "[encoded data removed]",
      "text/plain": [
       "<Figure size 432x288 with 1 Axes>"
      ]
     },
     "metadata": {
      "needs_background": "light"
     },
     "output_type": "display_data"
    }
   ],
   "source": [
    "corrected_scores_nflx = analyze_candlestick_accuracy(nflx)"
   ]
  },
  {
   "cell_type": "code",
   "execution_count": 98,
   "metadata": {},
   "outputs": [
    {
     "data": {
      "image/png": "[encoded data removed]",
      "text/plain": [
       "<Figure size 432x288 with 1 Axes>"
      ]
     },
     "metadata": {
      "needs_background": "light"
     },
     "output_type": "display_data"
    }
   ],
   "source": [
    "plot_scores(corrected_scores_nflx)"
   ]
  },
  {
   "cell_type": "markdown",
   "metadata": {},
   "source": [
    "#### The correlation is observed again, if the number of observations increases, the score approaches 0.5, which is the equivalent of randomly trading"
   ]
  },
  {
   "cell_type": "markdown",
   "metadata": {},
   "source": [
    "This is a clear proof that candlestick patterns by themselves cannot be reliable indicators for future market trends. While there is value in looking at candlestick patterns to understand the market better, they should not be treated as trustworthy indicators of market movement. "
   ]
  },
  {
   "cell_type": "markdown",
   "metadata": {},
   "source": [
    "\n",
    "disclaimer: This post by no means is providing financial advice to anyone, and is merely a statistical analysis of how well candlestick patterns have been able to predict the market"
   ]
  },
  {
   "cell_type": "code",
   "execution_count": null,
   "metadata": {},
   "outputs": [],
   "source": []
  }
 ],
 "metadata": {
  "kernelspec": {
   "display_name": "Python 3",
   "language": "python",
   "name": "python3"
  },
  "language_info": {
   "codemirror_mode": {
    "name": "ipython",
    "version": 3
   },
   "file_extension": ".py",
   "mimetype": "text/x-python",
   "name": "python",
   "nbconvert_exporter": "python",
   "pygments_lexer": "ipython3",
   "version": "3.6.8"
  }
 },
 "nbformat": 4,
 "nbformat_minor": 2
}
